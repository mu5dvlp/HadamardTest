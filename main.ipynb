{
 "cells": [
  {
   "cell_type": "markdown",
   "metadata": {},
   "source": [
    "# コード"
   ]
  },
  {
   "cell_type": "markdown",
   "metadata": {},
   "source": [
    "## ライブラリのインポート"
   ]
  },
  {
   "cell_type": "code",
   "execution_count": null,
   "metadata": {},
   "outputs": [],
   "source": [
    "from qiskit import *\n",
    "from qiskit.circuit.library import UnitaryGate\n",
    "from qiskit_aer import Aer\n",
    "from numpy import sqrt"
   ]
  },
  {
   "cell_type": "markdown",
   "metadata": {},
   "source": [
    "## 回路作成"
   ]
  },
  {
   "cell_type": "code",
   "execution_count": null,
   "metadata": {},
   "outputs": [],
   "source": [
    "qc = QuantumCircuit(2,2)\n",
    "\n",
    "qc.h(0)\n",
    "qc.ch(0,1)\n",
    "qc.h(0)\n",
    "qc.measure([0],[0])\n",
    "\n",
    "qc.draw('mpl')"
   ]
  },
  {
   "cell_type": "markdown",
   "metadata": {},
   "source": [
    "## 回路実行"
   ]
  },
  {
   "cell_type": "code",
   "execution_count": null,
   "metadata": {},
   "outputs": [],
   "source": [
    "backend = Aer.get_backend(\"qasm_simulator\")\n",
    "qc_transpiled = transpile(qc, backend, basis_gates=['u1', 'u2', 'u3', 'cx', 'id'])\n",
    "result = backend.run(qc_transpiled).result()\n",
    "counts = result.get_counts()\n",
    "sum_0 = sum(value for key, value in counts.items() if key[1] == '0')\n",
    "sum_1 = sum(value for key, value in counts.items() if key[1] == '1')\n",
    "print(f\"{{'0': {sum_0}, '1': {sum_1}}}\")"
   ]
  },
  {
   "cell_type": "markdown",
   "metadata": {},
   "source": [
    "# 解説"
   ]
  },
  {
   "cell_type": "markdown",
   "metadata": {},
   "source": [
    "以下のような、制御アダマールゲートを使用したアダマールテストを考えます。\n",
    "\n",
    "![スクリーンショット 2024-06-12 12.10.21.png](https://qiita-image-store.s3.ap-northeast-1.amazonaws.com/0/2607452/8c2e2ab0-abc7-6dea-2219-63740078cb20.png)\n",
    "\n",
    "また、初期状態は以下とします。\n",
    "$q[0] = |0\\rangle$\n",
    "$q[1] = |0\\rangle$\n",
    "\n",
    "ここで、回路を層に分けて計算します。\n",
    "\n",
    "![スクリーンショット 2024-06-12 12.10.21 2.png](https://qiita-image-store.s3.ap-northeast-1.amazonaws.com/0/2607452/fd6b98c8-c6a4-2b03-c703-d2c8c3bb66ba.png)\n",
    "\n",
    "並列回路におけるゲートの合成は、テンソル積で計算できます。\n",
    "\n",
    "$U_1 = H \\otimes I = \\frac{1}{\\sqrt2}\\left(\\begin{matrix} 1&0&1&0 \\\\ 0&1&0&1 \\\\ 1&0&-1&0 \\\\ 0&1&0&-1 \\end{matrix}\\right)$\n",
    "\n",
    "$U_2 = CH_{(0,1)} = \\left(\\begin{matrix} 1&0&0&0 \\\\ 0&1&0&0 \\\\ 0&0& \\frac{1}{\\sqrt{2}} &\\frac{1}{\\sqrt{2}} \\\\ 0&0&\\frac{1}{\\sqrt{2}}&-\\frac{1}{\\sqrt{2}} \\end{matrix}\\right)$\n",
    "\n",
    "$U_3 = H \\otimes I = \\frac{1}{\\sqrt2}\\left(\\begin{matrix} 1&0&1&0 \\\\ 0&1&0&1 \\\\ 1&0&-1&0 \\\\ 0&1&0&-1 \\end{matrix}\\right)$\n",
    "\n",
    "ここで、合成されたゲートを適用していきます。\n",
    "\n",
    "$U_3U_2U_1|00\\rangle = U_3U_2\\frac{1}{\\sqrt2}\\left(\\begin{matrix} 1&0&1&0 \\\\ 0&1&0&1 \\\\ 1&0&-1&0 \\\\ 0&1&0&-1 \\end{matrix}\\right) \\left(\\begin{matrix} 1\\\\0\\\\0\\\\0 \\end{matrix}\\right)$\n",
    "\n",
    "$=U_3U_2\\frac{1}{\\sqrt2}\\left(\\begin{matrix} 1\\\\0\\\\1\\\\0 \\end{matrix}\\right)$\n",
    "\n",
    "$=U_3\\left(\\begin{matrix} 1&0&0&0 \\\\ 0&1&0&0 \\\\ 0&0& \\frac{1}{\\sqrt{2}} &\\frac{1}{\\sqrt{2}} \\\\ 0&0&\\frac{1}{\\sqrt{2}}&-\\frac{1}{\\sqrt{2}} \\end{matrix}\\right)\\frac{1}{\\sqrt2}\\left(\\begin{matrix} 1\\\\0\\\\1\\\\0 \\end{matrix}\\right)$\n",
    "\n",
    "$= U_3\\frac{1}{\\sqrt2}\\left(\\begin{matrix} 1\\\\0\\\\\\frac{1}{\\sqrt2}\\\\\\frac{1}{\\sqrt2} \\end{matrix}\\right)$\n",
    "\n",
    "$= \\frac{1}{\\sqrt2}\\left(\\begin{matrix} 1&0&1&0 \\\\ 0&1&0&1 \\\\ 1&0&-1&0 \\\\ 0&1&0&-1 \\end{matrix}\\right) \\frac{1}{\\sqrt2}\\left(\\begin{matrix} 1\\\\0\\\\\\frac{1}{\\sqrt2}\\\\\\frac{1}{\\sqrt2} \\end{matrix}\\right)$\n",
    "\n",
    "$= \\frac{1}{2} \\left(\\begin{matrix} \\frac{\\sqrt2+1}{\\sqrt2}\\\\ \\frac{1}{\\sqrt2}\\\\ \\frac{\\sqrt2-1}{\\sqrt2}\\\\ -\\frac{1}{\\sqrt2}\\\\  \\end{matrix}\\right)$\n",
    "\n",
    "$= \\left(\\frac{\\sqrt2+1}{2\\sqrt2}|00\\rangle + \\frac{1}{2\\sqrt2}|01\\rangle + \\frac{\\sqrt2-1}{2\\sqrt2}|10\\rangle - \\frac{1}{2\\sqrt2}|11\\rangle\\right)$\n",
    "\n",
    "1量子目の測定結果が0となる確率$p_0$は、\n",
    "\n",
    "$p_0 = \\left| \\frac{\\sqrt2+1}{2\\sqrt2} \\right|^2 + \\left| \\frac{1}{2\\sqrt2} \\right|^2 = \\frac{4+2\\sqrt2}{8}$\n",
    "\n",
    "2量子目の測定結果が0となる確率$p_1$は、\n",
    "\n",
    "$p_1 = \\left| \\frac{\\sqrt2-1}{2\\sqrt2} \\right|^2 + \\left| \\frac{1}{2\\sqrt2} \\right|^2 = \\frac{4-2\\sqrt2}{8}$\n",
    "\n",
    "つまり、初期状態が$q[0]=|0\\rangle$、$q[1]=|0\\rangle$のアダマールテストにおいて、制御アダマールゲートを使用した時、1量子目の測定は\n",
    "\n",
    "$p_0 = \\frac{4+2\\sqrt2}{8} \\approx 0.85$\n",
    "\n",
    "$p_1 = \\frac{4-2\\sqrt2}{8} \\approx 0.15$\n",
    "\n",
    "となります。"
   ]
  },
  {
   "cell_type": "markdown",
   "metadata": {},
   "source": []
  }
 ],
 "metadata": {
  "kernelspec": {
   "display_name": "Python 3",
   "language": "python",
   "name": "python3"
  },
  "language_info": {
   "codemirror_mode": {
    "name": "ipython",
    "version": 3
   },
   "file_extension": ".py",
   "mimetype": "text/x-python",
   "name": "python",
   "nbconvert_exporter": "python",
   "pygments_lexer": "ipython3",
   "version": "3.11.6"
  }
 },
 "nbformat": 4,
 "nbformat_minor": 2
}
